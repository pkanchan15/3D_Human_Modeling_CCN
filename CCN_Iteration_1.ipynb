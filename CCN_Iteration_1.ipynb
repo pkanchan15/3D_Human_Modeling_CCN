{
 "cells": [
  {
   "attachments": {},
   "cell_type": "markdown",
   "metadata": {},
   "source": [
    "### 3 D Human Modeling - Group 8 - Iteration_ 1 - March 7 2023"
   ]
  },
  {
   "attachments": {},
   "cell_type": "markdown",
   "metadata": {},
   "source": [
    "Requriements analysis:\n",
    "<ul>\n",
    "<li>\n",
    "Node js\n",
    "\n",
    "</li>\n",
    "<li>\n",
    "Media pipe library\n",
    "</li>\n",
    "<li>\n",
    "open cv\n",
    "</li>\n",
    "<li>\n",
    "Tensor Flow\n",
    "</li>\n",
    "<li>\n",
    "Flask\n",
    "</li>\n",
    "</ul>\n"
   ]
  },
  {
   "attachments": {},
   "cell_type": "markdown",
   "metadata": {},
   "source": [
    "Code:"
   ]
  },
  {
   "attachments": {},
   "cell_type": "markdown",
   "metadata": {},
   "source": []
  },
  {
   "cell_type": "code",
   "execution_count": 4,
   "metadata": {},
   "outputs": [],
   "source": [
    "import cv2\n",
    "import mediapipe as mp\n",
    "import numpy as np"
   ]
  },
  {
   "cell_type": "code",
   "execution_count": 5,
   "metadata": {},
   "outputs": [],
   "source": [
    "mp_drawing = mp.solutions.drawing_utils\n",
    "mp_drawing_styles = mp.solutions.drawing_styles\n",
    "mp_pose = mp.solutions.pose"
   ]
  },
  {
   "cell_type": "code",
   "execution_count": 6,
   "metadata": {},
   "outputs": [],
   "source": [
    "\n",
    "\n",
    "# Define the input image files\n",
    "IMAGE_FILES = []\n",
    "\n",
    "# Define the background color\n",
    "BG_COLOR = (192, 192, 192) # gray\n",
    "\n",
    "# Create a Pose object\n",
    "with mp_pose.Pose(\n",
    "    static_image_mode=False,\n",
    "    model_complexity=2,\n",
    "    enable_segmentation=True,\n",
    "    min_detection_confidence=0.5) as pose:\n",
    "\n",
    "    # Iterate through each image file\n",
    "    for idx, file in enumerate(IMAGE_FILES):\n",
    "        # Read the image file\n",
    "        image = cv2.imread(file)\n",
    "        # Get the image height, width and number of channels\n",
    "        image_height, image_width, _ = image.shape\n",
    "        # Convert the BGR image to RGB before processing.\n",
    "        image_rgb = cv2.cvtColor(image, cv2.COLOR_BGR2RGB)\n",
    "        # Process the image using the Pose object\n",
    "        results = pose.process(image_rgb)\n",
    "\n",
    "        # Check if there are pose landmarks in the results\n",
    "        if not results.pose_landmarks:\n",
    "            continue\n",
    "        \n",
    "        # Print the coordinates of the nose landmark\n",
    "        nose_x = results.pose_landmarks.landmark[mp_pose.PoseLandmark.NOSE].x * image_width\n",
    "        nose_y = results.pose_landmarks.landmark[mp_pose.PoseLandmark.NOSE].y * image_height\n",
    "        print(f'Nose coordinates: ({nose_x}, {nose_y})')\n",
    "\n",
    "        # Create a copy of the image for annotations\n",
    "        annotated_image = image.copy()\n",
    "\n",
    "        # Draw segmentation on the image.\n",
    "        # To improve segmentation around boundaries, consider applying a joint\n",
    "        # bilateral filter to \"results.segmentation_mask\" with \"image\".\n",
    "        condition = np.stack((results.segmentation_mask,) * 3, axis=-1) > 0.1\n",
    "        bg_image = np.zeros(image.shape, dtype=np.uint8)\n",
    "        bg_image[:] = BG_COLOR\n",
    "        annotated_image = np.where(condition, annotated_image, bg_image)\n",
    "\n",
    "        # Draw pose landmarks on the image.\n",
    "        mp_drawing.draw_landmarks(\n",
    "            annotated_image,\n",
    "            results.pose_landmarks,\n",
    "            mp_pose.POSE_CONNECTIONS,\n",
    "            landmark_drawing_spec=mp_drawing_styles.get_default_pose_landmarks_style())\n",
    "\n",
    "        # Save the annotated image\n",
    "        cv2.imwrite(f'/tmp/annotated_image{idx}.png', annotated_image)\n",
    "\n",
    "        # Plot pose world landmarks.\n",
    "        mp_drawing.plot_landmarks(results.pose_world_landmarks, mp_pose.POSE_CONNECTIONS)\n"
   ]
  },
  {
   "attachments": {},
   "cell_type": "markdown",
   "metadata": {},
   "source": [
    "Capturing video from the default camera:"
   ]
  },
  {
   "cell_type": "code",
   "execution_count": 7,
   "metadata": {},
   "outputs": [],
   "source": [
    "cap = cv2.VideoCapture(0)"
   ]
  },
  {
   "cell_type": "markdown",
   "metadata": {},
   "source": []
  },
  {
   "attachments": {},
   "cell_type": "markdown",
   "metadata": {},
   "source": [
    "Initializing the MediaPipe Pose model:"
   ]
  },
  {
   "cell_type": "markdown",
   "metadata": {},
   "source": []
  },
  {
   "cell_type": "code",
   "execution_count": 11,
   "metadata": {},
   "outputs": [],
   "source": [
    "# Starting the camera feed:\n",
    "while cap.isOpened():\n",
    "    # Reading a frame from the camera:\n",
    "    success, image = cap.read()\n",
    "    \n",
    "    if not success:\n",
    "        print(\"Ignoring empty camera frame.\")\n",
    "        # If loading a video, use 'break' instead of 'continue'.\n",
    "        continue\n",
    "\n",
    "    # Converting the frame to RGB:\n",
    "    image.flags.writeable = False\n",
    "    image = cv2.cvtColor(image, cv2.COLOR_BGR2RGB)\n",
    "    \n",
    "    # Running the pose estimation model on the frame:\n",
    "    results = pose.process(image)\n",
    "\n",
    "    # Drawing the pose landmarks on the frame:\n",
    "    image.flags.writeable = True\n",
    "    image = cv2.cvtColor(image, cv2.COLOR_RGB2BGR)\n",
    "    mp_drawing.draw_landmarks(\n",
    "        image,\n",
    "        results.pose_landmarks,\n",
    "        mp_pose.POSE_CONNECTIONS,\n",
    "        landmark_drawing_spec=mp_drawing_styles.get_default_pose_landmarks_style())\n",
    "    \n",
    "    # Displaying the resulting frame with the pose landmarks:\n",
    "    cv2.imshow('MediaPipe Pose', cv2.flip(image, 1))\n",
    "    \n",
    "    # Checking if the 'Esc' key has been pressed to stop the loop:\n",
    "    if cv2.waitKey(5) & 0xFF == 27:\n",
    "        break\n"
   ]
  },
  {
   "cell_type": "code",
   "execution_count": 10,
   "metadata": {},
   "outputs": [],
   "source": [
    "cap.release()"
   ]
  },
  {
   "cell_type": "code",
   "execution_count": null,
   "metadata": {},
   "outputs": [],
   "source": []
  }
 ],
 "metadata": {
  "kernelspec": {
   "display_name": "ccn",
   "language": "python",
   "name": "python3"
  },
  "language_info": {
   "codemirror_mode": {
    "name": "ipython",
    "version": 3
   },
   "file_extension": ".py",
   "mimetype": "text/x-python",
   "name": "python",
   "nbconvert_exporter": "python",
   "pygments_lexer": "ipython3",
   "version": "3.9.16"
  },
  "orig_nbformat": 4
 },
 "nbformat": 4,
 "nbformat_minor": 2
}
